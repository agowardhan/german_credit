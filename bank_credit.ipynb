{
 "cells": [
  {
   "cell_type": "code",
   "execution_count": 1,
   "metadata": {},
   "outputs": [],
   "source": [
    "import pandas as pd \n",
    "from sklearn.utils import shuffle\n",
    "import utils as ut \n",
    "from sklearn.model_selection import train_test_split\n",
    "\n",
    "\n",
    "%matplotlib inline \n"
   ]
  },
  {
   "cell_type": "code",
   "execution_count": 542,
   "metadata": {},
   "outputs": [],
   "source": [
    "import sklearn\n",
    "import xgboost as xgb\n",
    "from xgboost import XGBClassifier\n",
    "\n",
    "## sklearn \n",
    "\n",
    "from sklearn.preprocessing import LabelEncoder\n",
    "from sklearn.metrics import fbeta_score, make_scorer\n",
    "from sklearn.metrics import confusion_matrix, precision_recall_curve, auc, roc_auc_score, roc_curve, recall_score, classification_report\n",
    "from sklearn.utils import resample\n",
    "\n",
    "from sklearn.ensemble import RandomForestClassifier,  VotingClassifier, GradientBoostingClassifier,  AdaBoostClassifier\n",
    "from sklearn.neural_network import MLPClassifier\n",
    "from sklearn.neighbors import KNeighborsClassifier\n",
    "from sklearn.svm import SVC\n",
    "from sklearn.gaussian_process import GaussianProcessClassifier\n",
    "from sklearn.gaussian_process.kernels import RBF\n",
    "from sklearn.tree import DecisionTreeClassifier\n",
    "from sklearn.naive_bayes import GaussianNB\n",
    "from sklearn.discriminant_analysis import QuadraticDiscriminantAnalysis\n",
    "\n",
    "from sklearn.model_selection import RandomizedSearchCV\n",
    "from sklearn.model_selection import GridSearchCV\n",
    "from sklearn.model_selection import KFold\n",
    "from sklearn.model_selection import cross_val_score\n",
    "from sklearn.model_selection import cross_val_score\n",
    "from sklearn.model_selection import train_test_split\n",
    "from sklearn.linear_model import LogisticRegression\n",
    "\n",
    "# from imbalance \n",
    "\n",
    "from imblearn.over_sampling import SMOTE\n",
    "from imblearn.combine import SMOTEENN, SMOTETomek\n",
    "\n",
    "from collections import Counter\n",
    "\n",
    "import numpy as np\n",
    "import matplotlib.pyplot as plt \n",
    "\n"
   ]
  },
  {
   "cell_type": "code",
   "execution_count": 2,
   "metadata": {},
   "outputs": [
    {
     "data": {
      "text/html": [
       "<div>\n",
       "<style scoped>\n",
       "    .dataframe tbody tr th:only-of-type {\n",
       "        vertical-align: middle;\n",
       "    }\n",
       "\n",
       "    .dataframe tbody tr th {\n",
       "        vertical-align: top;\n",
       "    }\n",
       "\n",
       "    .dataframe thead th {\n",
       "        text-align: right;\n",
       "    }\n",
       "</style>\n",
       "<table border=\"1\" class=\"dataframe\">\n",
       "  <thead>\n",
       "    <tr style=\"text-align: right;\">\n",
       "      <th></th>\n",
       "      <th>checking_status</th>\n",
       "      <th>duration</th>\n",
       "      <th>credit_history</th>\n",
       "      <th>purpose</th>\n",
       "      <th>credit_amount</th>\n",
       "      <th>savings_status</th>\n",
       "      <th>employment</th>\n",
       "      <th>installment_commitment</th>\n",
       "      <th>personal_status</th>\n",
       "      <th>other_parties</th>\n",
       "      <th>...</th>\n",
       "      <th>property_magnitude</th>\n",
       "      <th>age</th>\n",
       "      <th>other_payment_plans</th>\n",
       "      <th>housing</th>\n",
       "      <th>existing_credits</th>\n",
       "      <th>job</th>\n",
       "      <th>num_dependents</th>\n",
       "      <th>own_telephone</th>\n",
       "      <th>foreign_worker</th>\n",
       "      <th>class</th>\n",
       "    </tr>\n",
       "  </thead>\n",
       "  <tbody>\n",
       "    <tr>\n",
       "      <th>817</th>\n",
       "      <td>'no checking'</td>\n",
       "      <td>6</td>\n",
       "      <td>'critical/other existing credit'</td>\n",
       "      <td>radio/tv</td>\n",
       "      <td>1554</td>\n",
       "      <td>'&lt;100'</td>\n",
       "      <td>'4&lt;=X&lt;7'</td>\n",
       "      <td>1</td>\n",
       "      <td>'female div/dep/mar'</td>\n",
       "      <td>none</td>\n",
       "      <td>...</td>\n",
       "      <td>car</td>\n",
       "      <td>24</td>\n",
       "      <td>none</td>\n",
       "      <td>rent</td>\n",
       "      <td>2</td>\n",
       "      <td>skilled</td>\n",
       "      <td>1</td>\n",
       "      <td>yes</td>\n",
       "      <td>yes</td>\n",
       "      <td>good</td>\n",
       "    </tr>\n",
       "    <tr>\n",
       "      <th>865</th>\n",
       "      <td>'no checking'</td>\n",
       "      <td>15</td>\n",
       "      <td>'existing paid'</td>\n",
       "      <td>furniture/equipment</td>\n",
       "      <td>2221</td>\n",
       "      <td>'500&lt;=X&lt;1000'</td>\n",
       "      <td>'1&lt;=X&lt;4'</td>\n",
       "      <td>2</td>\n",
       "      <td>'female div/dep/mar'</td>\n",
       "      <td>none</td>\n",
       "      <td>...</td>\n",
       "      <td>car</td>\n",
       "      <td>20</td>\n",
       "      <td>none</td>\n",
       "      <td>rent</td>\n",
       "      <td>1</td>\n",
       "      <td>skilled</td>\n",
       "      <td>1</td>\n",
       "      <td>none</td>\n",
       "      <td>yes</td>\n",
       "      <td>good</td>\n",
       "    </tr>\n",
       "    <tr>\n",
       "      <th>342</th>\n",
       "      <td>'0&lt;=X&lt;200'</td>\n",
       "      <td>18</td>\n",
       "      <td>'existing paid'</td>\n",
       "      <td>radio/tv</td>\n",
       "      <td>3213</td>\n",
       "      <td>'500&lt;=X&lt;1000'</td>\n",
       "      <td>'&lt;1'</td>\n",
       "      <td>1</td>\n",
       "      <td>'male mar/wid'</td>\n",
       "      <td>none</td>\n",
       "      <td>...</td>\n",
       "      <td>'real estate'</td>\n",
       "      <td>25</td>\n",
       "      <td>none</td>\n",
       "      <td>rent</td>\n",
       "      <td>1</td>\n",
       "      <td>skilled</td>\n",
       "      <td>1</td>\n",
       "      <td>none</td>\n",
       "      <td>yes</td>\n",
       "      <td>good</td>\n",
       "    </tr>\n",
       "    <tr>\n",
       "      <th>834</th>\n",
       "      <td>'&gt;=200'</td>\n",
       "      <td>15</td>\n",
       "      <td>'existing paid'</td>\n",
       "      <td>radio/tv</td>\n",
       "      <td>2327</td>\n",
       "      <td>'&lt;100'</td>\n",
       "      <td>'&lt;1'</td>\n",
       "      <td>2</td>\n",
       "      <td>'female div/dep/mar'</td>\n",
       "      <td>none</td>\n",
       "      <td>...</td>\n",
       "      <td>'real estate'</td>\n",
       "      <td>25</td>\n",
       "      <td>none</td>\n",
       "      <td>own</td>\n",
       "      <td>1</td>\n",
       "      <td>'unskilled resident'</td>\n",
       "      <td>1</td>\n",
       "      <td>none</td>\n",
       "      <td>yes</td>\n",
       "      <td>bad</td>\n",
       "    </tr>\n",
       "    <tr>\n",
       "      <th>169</th>\n",
       "      <td>'0&lt;=X&lt;200'</td>\n",
       "      <td>24</td>\n",
       "      <td>'critical/other existing credit'</td>\n",
       "      <td>business</td>\n",
       "      <td>1935</td>\n",
       "      <td>'&lt;100'</td>\n",
       "      <td>'&gt;=7'</td>\n",
       "      <td>4</td>\n",
       "      <td>'male div/sep'</td>\n",
       "      <td>none</td>\n",
       "      <td>...</td>\n",
       "      <td>'real estate'</td>\n",
       "      <td>31</td>\n",
       "      <td>none</td>\n",
       "      <td>own</td>\n",
       "      <td>2</td>\n",
       "      <td>skilled</td>\n",
       "      <td>1</td>\n",
       "      <td>yes</td>\n",
       "      <td>yes</td>\n",
       "      <td>bad</td>\n",
       "    </tr>\n",
       "    <tr>\n",
       "      <th>477</th>\n",
       "      <td>'&gt;=200'</td>\n",
       "      <td>24</td>\n",
       "      <td>'existing paid'</td>\n",
       "      <td>radio/tv</td>\n",
       "      <td>5152</td>\n",
       "      <td>'&lt;100'</td>\n",
       "      <td>'4&lt;=X&lt;7'</td>\n",
       "      <td>4</td>\n",
       "      <td>'male single'</td>\n",
       "      <td>none</td>\n",
       "      <td>...</td>\n",
       "      <td>car</td>\n",
       "      <td>25</td>\n",
       "      <td>bank</td>\n",
       "      <td>own</td>\n",
       "      <td>1</td>\n",
       "      <td>skilled</td>\n",
       "      <td>1</td>\n",
       "      <td>none</td>\n",
       "      <td>yes</td>\n",
       "      <td>good</td>\n",
       "    </tr>\n",
       "    <tr>\n",
       "      <th>350</th>\n",
       "      <td>'no checking'</td>\n",
       "      <td>9</td>\n",
       "      <td>'existing paid'</td>\n",
       "      <td>'domestic appliance'</td>\n",
       "      <td>1236</td>\n",
       "      <td>'&lt;100'</td>\n",
       "      <td>'&lt;1'</td>\n",
       "      <td>1</td>\n",
       "      <td>'female div/dep/mar'</td>\n",
       "      <td>none</td>\n",
       "      <td>...</td>\n",
       "      <td>'real estate'</td>\n",
       "      <td>23</td>\n",
       "      <td>none</td>\n",
       "      <td>rent</td>\n",
       "      <td>1</td>\n",
       "      <td>skilled</td>\n",
       "      <td>1</td>\n",
       "      <td>yes</td>\n",
       "      <td>yes</td>\n",
       "      <td>good</td>\n",
       "    </tr>\n",
       "    <tr>\n",
       "      <th>309</th>\n",
       "      <td>'0&lt;=X&lt;200'</td>\n",
       "      <td>9</td>\n",
       "      <td>'existing paid'</td>\n",
       "      <td>'new car'</td>\n",
       "      <td>276</td>\n",
       "      <td>'&lt;100'</td>\n",
       "      <td>'1&lt;=X&lt;4'</td>\n",
       "      <td>4</td>\n",
       "      <td>'male mar/wid'</td>\n",
       "      <td>none</td>\n",
       "      <td>...</td>\n",
       "      <td>'real estate'</td>\n",
       "      <td>22</td>\n",
       "      <td>none</td>\n",
       "      <td>rent</td>\n",
       "      <td>1</td>\n",
       "      <td>'unskilled resident'</td>\n",
       "      <td>1</td>\n",
       "      <td>none</td>\n",
       "      <td>yes</td>\n",
       "      <td>good</td>\n",
       "    </tr>\n",
       "    <tr>\n",
       "      <th>775</th>\n",
       "      <td>'&lt;0'</td>\n",
       "      <td>24</td>\n",
       "      <td>'existing paid'</td>\n",
       "      <td>'new car'</td>\n",
       "      <td>1371</td>\n",
       "      <td>'no known savings'</td>\n",
       "      <td>'1&lt;=X&lt;4'</td>\n",
       "      <td>4</td>\n",
       "      <td>'female div/dep/mar'</td>\n",
       "      <td>none</td>\n",
       "      <td>...</td>\n",
       "      <td>'real estate'</td>\n",
       "      <td>25</td>\n",
       "      <td>none</td>\n",
       "      <td>rent</td>\n",
       "      <td>1</td>\n",
       "      <td>skilled</td>\n",
       "      <td>1</td>\n",
       "      <td>none</td>\n",
       "      <td>yes</td>\n",
       "      <td>bad</td>\n",
       "    </tr>\n",
       "    <tr>\n",
       "      <th>5</th>\n",
       "      <td>'no checking'</td>\n",
       "      <td>36</td>\n",
       "      <td>'existing paid'</td>\n",
       "      <td>education</td>\n",
       "      <td>9055</td>\n",
       "      <td>'no known savings'</td>\n",
       "      <td>'1&lt;=X&lt;4'</td>\n",
       "      <td>2</td>\n",
       "      <td>'male single'</td>\n",
       "      <td>none</td>\n",
       "      <td>...</td>\n",
       "      <td>'no known property'</td>\n",
       "      <td>35</td>\n",
       "      <td>none</td>\n",
       "      <td>'for free'</td>\n",
       "      <td>1</td>\n",
       "      <td>'unskilled resident'</td>\n",
       "      <td>2</td>\n",
       "      <td>yes</td>\n",
       "      <td>yes</td>\n",
       "      <td>good</td>\n",
       "    </tr>\n",
       "  </tbody>\n",
       "</table>\n",
       "<p>10 rows × 21 columns</p>\n",
       "</div>"
      ],
      "text/plain": [
       "    checking_status  duration                    credit_history  \\\n",
       "817   'no checking'         6  'critical/other existing credit'   \n",
       "865   'no checking'        15                   'existing paid'   \n",
       "342      '0<=X<200'        18                   'existing paid'   \n",
       "834         '>=200'        15                   'existing paid'   \n",
       "169      '0<=X<200'        24  'critical/other existing credit'   \n",
       "477         '>=200'        24                   'existing paid'   \n",
       "350   'no checking'         9                   'existing paid'   \n",
       "309      '0<=X<200'         9                   'existing paid'   \n",
       "775            '<0'        24                   'existing paid'   \n",
       "5     'no checking'        36                   'existing paid'   \n",
       "\n",
       "                  purpose  credit_amount      savings_status employment  \\\n",
       "817              radio/tv           1554              '<100'   '4<=X<7'   \n",
       "865   furniture/equipment           2221       '500<=X<1000'   '1<=X<4'   \n",
       "342              radio/tv           3213       '500<=X<1000'       '<1'   \n",
       "834              radio/tv           2327              '<100'       '<1'   \n",
       "169              business           1935              '<100'      '>=7'   \n",
       "477              radio/tv           5152              '<100'   '4<=X<7'   \n",
       "350  'domestic appliance'           1236              '<100'       '<1'   \n",
       "309             'new car'            276              '<100'   '1<=X<4'   \n",
       "775             'new car'           1371  'no known savings'   '1<=X<4'   \n",
       "5               education           9055  'no known savings'   '1<=X<4'   \n",
       "\n",
       "     installment_commitment       personal_status other_parties  ...   \\\n",
       "817                       1  'female div/dep/mar'          none  ...    \n",
       "865                       2  'female div/dep/mar'          none  ...    \n",
       "342                       1        'male mar/wid'          none  ...    \n",
       "834                       2  'female div/dep/mar'          none  ...    \n",
       "169                       4        'male div/sep'          none  ...    \n",
       "477                       4         'male single'          none  ...    \n",
       "350                       1  'female div/dep/mar'          none  ...    \n",
       "309                       4        'male mar/wid'          none  ...    \n",
       "775                       4  'female div/dep/mar'          none  ...    \n",
       "5                         2         'male single'          none  ...    \n",
       "\n",
       "      property_magnitude age  other_payment_plans     housing  \\\n",
       "817                  car  24                 none        rent   \n",
       "865                  car  20                 none        rent   \n",
       "342        'real estate'  25                 none        rent   \n",
       "834        'real estate'  25                 none         own   \n",
       "169        'real estate'  31                 none         own   \n",
       "477                  car  25                 bank         own   \n",
       "350        'real estate'  23                 none        rent   \n",
       "309        'real estate'  22                 none        rent   \n",
       "775        'real estate'  25                 none        rent   \n",
       "5    'no known property'  35                 none  'for free'   \n",
       "\n",
       "    existing_credits                   job num_dependents  own_telephone  \\\n",
       "817                2               skilled              1            yes   \n",
       "865                1               skilled              1           none   \n",
       "342                1               skilled              1           none   \n",
       "834                1  'unskilled resident'              1           none   \n",
       "169                2               skilled              1            yes   \n",
       "477                1               skilled              1           none   \n",
       "350                1               skilled              1            yes   \n",
       "309                1  'unskilled resident'              1           none   \n",
       "775                1               skilled              1           none   \n",
       "5                  1  'unskilled resident'              2            yes   \n",
       "\n",
       "    foreign_worker class  \n",
       "817            yes  good  \n",
       "865            yes  good  \n",
       "342            yes  good  \n",
       "834            yes   bad  \n",
       "169            yes   bad  \n",
       "477            yes  good  \n",
       "350            yes  good  \n",
       "309            yes  good  \n",
       "775            yes   bad  \n",
       "5              yes  good  \n",
       "\n",
       "[10 rows x 21 columns]"
      ]
     },
     "execution_count": 2,
     "metadata": {},
     "output_type": "execute_result"
    }
   ],
   "source": [
    "df = pd.read_csv('./dataset_31_credit-g.csv')\n",
    "df = shuffle(df)\n",
    "\n",
    "df.head(10)"
   ]
  },
  {
   "cell_type": "code",
   "execution_count": null,
   "metadata": {},
   "outputs": [],
   "source": [
    "## plotting data \n",
    "ut.plot_df(df)"
   ]
  },
  {
   "cell_type": "markdown",
   "metadata": {},
   "source": [
    "## First thoughts. \n",
    "    - Classification problem \n",
    "    - Imbalanced classes - 700 vs 300 \n",
    "        - can be handlesd with oversampling or undersampling - in the case of oversampling, be careful with K fold cross validation, will \n",
    "        overfit \n",
    "        - In undersampling, can ensemble i.e. use the 300 + 300(g), another with 300+different 300(g)\n",
    "        - can cluster the abundant class and use the medians. \n",
    "        - Use more complex algos - bagging, boosting, e.g. Xgboost \n",
    "        - Ensemble eveything for best performance "
   ]
  },
  {
   "cell_type": "markdown",
   "metadata": {},
   "source": [
    "## Step 0: test train split and defining loss function "
   ]
  },
  {
   "cell_type": "code",
   "execution_count": 486,
   "metadata": {},
   "outputs": [],
   "source": [
    "df = ut.label_encode(df)\n",
    "x0 = df.drop(['class'], axis=1)\n",
    "y0 = df['class']\n",
    "x_train, x_test, y_train, y_test = train_test_split(x0, y0, test_size=0.20, random_state=42, shuffle=True)"
   ]
  },
  {
   "cell_type": "markdown",
   "metadata": {},
   "source": [
    "## Oversampling vs k-fold cross validation \n",
    "\n",
    "We have to be careful before using 5-fold cross validation, because if we oversample and then perform the 5-fold cross validation then we will get artificially high accuracies. \n",
    "The workaround to this : \n",
    "\n",
    "- Inside the cross-validation loop, get a sample out and do not use it for anything \n",
    "- Oversample the minority class in the remaining data and use it together with majority to create and fit model\n",
    "- Repeat k times for k-fold cross validation, where n is your number of samples (if doing leave one participant out cross-validation)."
   ]
  },
  {
   "cell_type": "markdown",
   "metadata": {},
   "source": [
    "# Note: \n",
    "\n",
    "The baseline accuracy is 70\\% because thats what we'll get if we guess True across the board. Similarly, the cost function for this case is 1.45. "
   ]
  },
  {
   "cell_type": "markdown",
   "metadata": {},
   "source": [
    "## Collecting and ensembling models "
   ]
  },
  {
   "cell_type": "code",
   "execution_count": 491,
   "metadata": {},
   "outputs": [
    {
     "name": "stderr",
     "output_type": "stream",
     "text": [
      "/Users/avani/anaconda3/lib/python3.6/site-packages/sklearn/linear_model/logistic.py:758: ConvergenceWarning: lbfgs failed to converge. Increase the number of iterations.\n",
      "  \"of iterations.\", ConvergenceWarning)\n",
      "/Users/avani/anaconda3/lib/python3.6/site-packages/sklearn/linear_model/logistic.py:758: ConvergenceWarning: lbfgs failed to converge. Increase the number of iterations.\n",
      "  \"of iterations.\", ConvergenceWarning)\n",
      "/Users/avani/anaconda3/lib/python3.6/site-packages/sklearn/linear_model/logistic.py:758: ConvergenceWarning: lbfgs failed to converge. Increase the number of iterations.\n",
      "  \"of iterations.\", ConvergenceWarning)\n",
      "/Users/avani/anaconda3/lib/python3.6/site-packages/sklearn/linear_model/logistic.py:758: ConvergenceWarning: lbfgs failed to converge. Increase the number of iterations.\n",
      "  \"of iterations.\", ConvergenceWarning)\n",
      "/Users/avani/anaconda3/lib/python3.6/site-packages/sklearn/linear_model/logistic.py:758: ConvergenceWarning: lbfgs failed to converge. Increase the number of iterations.\n",
      "  \"of iterations.\", ConvergenceWarning)\n",
      "/Users/avani/anaconda3/lib/python3.6/site-packages/sklearn/linear_model/logistic.py:758: ConvergenceWarning: lbfgs failed to converge. Increase the number of iterations.\n",
      "  \"of iterations.\", ConvergenceWarning)\n"
     ]
    }
   ],
   "source": [
    "names, classifiers, allscores_precision, allscores_cust = doall(x, y)"
   ]
  },
  {
   "cell_type": "code",
   "execution_count": 492,
   "metadata": {},
   "outputs": [],
   "source": [
    "ap = np.array(allscores_precision).flatten().reshape(9,11)\n",
    "ac = np.array(allscores_cust).flatten().reshape(9,11)\n",
    "\n",
    "apm = np.mean(ap, axis=0)\n",
    "aps = np.std(ap, axis=0)\n",
    "\n",
    "acm = np.mean(ac, axis=0)\n",
    "acs = np.std(ac, axis=0)"
   ]
  },
  {
   "cell_type": "markdown",
   "metadata": {},
   "source": [
    "> It seems that oversampling, either through SMOTE or the simplest way makes the most difference, as expected. I expect SMOTE will generalize better, so let's continue using it. "
   ]
  },
  {
   "cell_type": "code",
   "execution_count": 493,
   "metadata": {},
   "outputs": [
    {
     "name": "stdout",
     "output_type": "stream",
     "text": [
      "Nearest Neighbors \t Precision = 0.89 (+/- 0.04), cost = 0.49 (+/- 0.13) \n",
      "Gaussian Process \t Precision = 0.74 (+/- 0.07), cost = 1.13 (+/- 0.30) \n",
      "Decision Tree \t Precision = 0.85 (+/- 0.06), cost = 0.65 (+/- 0.22) \n",
      "Random Forest \t Precision = 0.85 (+/- 0.03), cost = 0.65 (+/- 0.08) \n",
      "GradientBoosting \t Precision = 0.85 (+/- 0.04), cost = 0.63 (+/- 0.16) \n",
      "Neural Net \t Precision = 0.77 (+/- 0.07), cost = 1.06 (+/- 0.39) \n",
      "AdaBoost \t Precision = 0.85 (+/- 0.05), cost = 0.62 (+/- 0.19) \n",
      "Naive Bayes \t Precision = 0.81 (+/- 0.04), cost = 0.78 (+/- 0.13) \n",
      "QDA \t Precision = 0.83 (+/- 0.03), cost = 0.71 (+/- 0.12) \n",
      "XGB \t Precision = 0.88 (+/- 0.03), cost = 0.51 (+/- 0.12) \n",
      "LogisticRegression \t Precision = 0.81 (+/- 0.04), cost = 0.79 (+/- 0.15) \n"
     ]
    }
   ],
   "source": [
    "for i in range(11): \n",
    "    print(names[i],  \"\\t Precision = %.2f (+/- %.2f), cost = %.2f (+/- %.2f) \" % (apm[i], aps[i], acm[i], acs[i]))"
   ]
  },
  {
   "cell_type": "code",
   "execution_count": 494,
   "metadata": {},
   "outputs": [],
   "source": [
    "# now lets ensemble them all and see how we do on the test data. "
   ]
  },
  {
   "cell_type": "code",
   "execution_count": 501,
   "metadata": {},
   "outputs": [],
   "source": [
    "arr = []\n",
    "for i in range(11):\n",
    "    dt= (names[i], classifiers[i])\n",
    "    arr.append(dt)"
   ]
  },
  {
   "cell_type": "code",
   "execution_count": 517,
   "metadata": {},
   "outputs": [],
   "source": [
    "eclf = VotingClassifier(estimators=arr,\n",
    "                         voting='soft', weights=[2,1,2,2,2,1,2,1,2,2,1])"
   ]
  },
  {
   "cell_type": "code",
   "execution_count": 518,
   "metadata": {},
   "outputs": [
    {
     "data": {
      "text/plain": [
       "VotingClassifier(estimators=[('Nearest Neighbors', KNeighborsClassifier(algorithm='auto', leaf_size=30, metric='minkowski',\n",
       "           metric_params=None, n_jobs=None, n_neighbors=3, p=2,\n",
       "           weights='uniform')), ('Gaussian Process', GaussianProcessClassifier(copy_X_train=True,\n",
       "             kernel=1**2 * RBF(..., penalty='l2', random_state=5, solver='lbfgs',\n",
       "          tol=0.0001, verbose=0, warm_start=False))],\n",
       "         flatten_transform=None, n_jobs=None, voting='soft',\n",
       "         weights=[2, 1, 2, 2, 2, 1, 2, 1, 2, 2, 1])"
      ]
     },
     "execution_count": 518,
     "metadata": {},
     "output_type": "execute_result"
    }
   ],
   "source": [
    "eclf.fit(x_train, y_train)"
   ]
  },
  {
   "cell_type": "code",
   "execution_count": 522,
   "metadata": {},
   "outputs": [
    {
     "name": "stdout",
     "output_type": "stream",
     "text": [
      "0.8181818181818182\n",
      "0.82\n"
     ]
    }
   ],
   "source": [
    "y_pred = eclf.predict(x_test)\n",
    "precision = precision_score(y_test, y_pred)\n",
    "loss = cost_loss_func(y_pred=y_pred, y_true=y_test)\n",
    "print(precision)\n",
    "print(loss)"
   ]
  },
  {
   "cell_type": "code",
   "execution_count": 537,
   "metadata": {},
   "outputs": [
    {
     "name": "stdout",
     "output_type": "stream",
     "text": [
      "0.9259259259259259\n",
      "0.37\n"
     ]
    }
   ],
   "source": [
    "## it seems that xgb classifier is doing the best of all\n",
    "y_pred = classifiers[9].predict(x_test.values)\n",
    "precision = precision_score(y_test, y_pred)\n",
    "loss = cost_loss_func(y_pred=y_pred, y_true=y_test)\n",
    "print(precision)\n",
    "print(loss)"
   ]
  },
  {
   "cell_type": "code",
   "execution_count": 541,
   "metadata": {},
   "outputs": [
    {
     "name": "stdout",
     "output_type": "stream",
     "text": [
      "Confusion matrix, without normalization\n",
      "[[ 41  10]\n",
      " [ 24 125]]\n"
     ]
    },
    {
     "data": {
      "text/plain": [
       "<matplotlib.axes._subplots.AxesSubplot at 0x1a27959320>"
      ]
     },
     "execution_count": 541,
     "metadata": {},
     "output_type": "execute_result"
    },
    {
     "data": {
      "image/png": "[encoded data removed]",
      "text/plain": [
       "<Figure size 432x288 with 2 Axes>"
      ]
     },
     "metadata": {
      "needs_background": "light"
     },
     "output_type": "display_data"
    }
   ],
   "source": [
    "ut.confusion_matrix(y_pred=y_pred,y_true=y_test)\n",
    "ut.plot_confusion_matrix(classes=['good', 'bad'],normalize=False,title=None,y_pred=y_pred,y_true=y_test)"
   ]
  },
  {
   "cell_type": "code",
   "execution_count": 523,
   "metadata": {},
   "outputs": [],
   "source": [
    "## To do : hyper-parameter tuning! "
   ]
  }
 ],
 "metadata": {
  "kernelspec": {
   "display_name": "Python 3",
   "language": "python",
   "name": "python3"
  },
  "language_info": {
   "codemirror_mode": {
    "name": "ipython",
    "version": 3
   },
   "file_extension": ".py",
   "mimetype": "text/x-python",
   "name": "python",
   "nbconvert_exporter": "python",
   "pygments_lexer": "ipython3",
   "version": "3.6.6"
  }
 },
 "nbformat": 4,
 "nbformat_minor": 2
}
